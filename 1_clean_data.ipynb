{
 "cells": [
  {
   "cell_type": "markdown",
   "metadata": {},
   "source": [
    "This notebook is to clean raw data downloaded by `0_collect_data`, steps include:\n",
    "- Parsed min and max from salary range, calculated its average\n",
    "- Converted hourly salary to annually\n",
    "- Discarded data without salary (=-1)\n",
    "- Made a new column for company state\n",
    "- Made a new column if the job location is the same as head quarter\n",
    "- Made a new column of company age\n",
    "- Made new columns if selected skills listed in the job description\n",
    "    - Python\n",
    "    - Rstudio\n",
    "    - SQL\n",
    "    - Excel\n",
    "    - AWS\n",
    "    - Spark\n",
    "    - NLP\n",
    "- Made new columns for simplied job titles (scientist, analyst, engineer, etc) and seniority\n",
    "- Made a new column for length of job description\n",
    "- Made a new column for number of competitors\n",
    "- Group \"-1\" into \"Unknown\" for 'Type of ownership','Sector','Size','Industry'\n",
    "- Saved cleaned table into `DS_salary_cleaned.csv`"
   ]
  },
  {
   "cell_type": "code",
   "execution_count": 1,
   "metadata": {},
   "outputs": [],
   "source": [
    "import pandas as pd"
   ]
  },
  {
   "cell_type": "code",
   "execution_count": 2,
   "metadata": {},
   "outputs": [],
   "source": [
    "def title_simplifier(title):\n",
    "    positions = ['data scientist','data engineer','analyst','machine learning','manager','director']\n",
    "    for position in positions:\n",
    "        if position in title.lower():\n",
    "            return position\n",
    "    return 'na'\n",
    "\n",
    "def seniority(title):\n",
    "    senior_strs = ['sr','sr.','senior','lead','principal']\n",
    "    junior_strs = ['jr','jr.','junior','intern','co-op']\n",
    "    if any(senior_str in title.lower() for senior_str in senior_strs):\n",
    "        return 'senior'\n",
    "    elif any(junior_str in title.lower() for junior_str in junior_strs):\n",
    "        return 'junior'\n",
    "    else:\n",
    "        return 'na'"
   ]
  },
  {
   "cell_type": "code",
   "execution_count": 3,
   "metadata": {},
   "outputs": [],
   "source": [
    "df = pd.read_csv('DS_salary_raw.csv')\n",
    "\n",
    "# remove second column\n",
    "df = df.drop(['Unnamed: 0'],axis=1)\n",
    "\n",
    "# salary parsing, remove rows without salary info\n",
    "df = df[df['Salary Estimate'] != '-1']\n",
    "\n",
    "# add columns indicating if hourly paid\n",
    "df['hourly'] = df['Salary Estimate'].str.lower().str.contains('per hour').astype(int)\n",
    "\n",
    "# remove unnecessry strings and extract min, max and average salary, convert hourly to annualy\n",
    "salary = df['Salary Estimate'].apply(lambda x: x.split('(')[0]).str.replace('$','').str.replace('K','').str.replace('Per Hour','').str.replace('Employer Provided Salary:','')\n",
    "df['min_salary'] = salary.apply(lambda x: int(x.split('-')[0]))\n",
    "df['max_salary'] = salary.apply(lambda x: int(x.split('-')[1]))\n",
    "df['min_salary'] = df.apply(lambda x: x.min_salary * 2 if x.hourly == 1 else x.min_salary, axis = 1)\n",
    "df['max_salary'] = df.apply(lambda x: x.max_salary * 2 if x.hourly == 1 else x.max_salary, axis = 1)\n",
    "df['avg_salary'] = (df.min_salary + df.max_salary)/2\n",
    "\n",
    "# company name\n",
    "df['company_txt'] = df.apply(lambda x: x['Company Name'] if x['Rating'] < 0 else x['Company Name'][:-3], axis = 1)\n",
    "df['company_txt'] = df['company_txt'].apply(lambda x: x.replace('\\n',''))\n",
    "\n",
    "# location by state and if head quarter in the same location\n",
    "df['job_state'] = df['Location'].apply(lambda x: x.split(',')[1]).str.replace(' ','')\n",
    "#df['job_state'].value_counts()\n",
    "df['job_state'] = df['job_state'].str.replace('LosAngeles','CA')\n",
    "df['same_state'] = df.apply(lambda x: 1 if x['Location'] == x['Headquarters'] else 0, axis = 1)\n",
    "\n",
    "# age\n",
    "df['age'] = df['Founded'].apply(lambda x: 2020 - int(x) if int(x) > 0 else int(x))\n",
    "\n",
    "# job description keywords selection\n",
    "skills = ['python','sql','excel','aws','spark','nlp','rstudio']\n",
    "\n",
    "for skill in skills:\n",
    "    df[skill + '_yn'] = df['Job Description'].apply(lambda x: 1 if skill in x.lower() else 0)\n",
    "    #df[skill + '_yn'].value_counts()\n",
    "    \n",
    "# simply job title\n",
    "df['job_simp'] = df['Job Title'].apply(title_simplifier)\n",
    "\n",
    "# job seniority\n",
    "df['seniority'] = df['Job Title'].apply(seniority)\n",
    "df['seniority'].value_counts()\n",
    "\n",
    "# length of job description\n",
    "df['description_length'] = df['Job Description'].apply(len)\n",
    "\n",
    "# number of competitors\n",
    "df['num_competitor'] = df['Competitors'].apply(lambda x: len(x.split(',')) if x != -1 else 0)\n",
    "\n",
    "# put missing rows into Unknown\n",
    "miss_vars = ['Type of ownership','Sector','Size','Industry']\n",
    "for miss_var in miss_vars:\n",
    "    df[miss_var].replace({\"-1\":\"Unknown\"}, inplace=True)"
   ]
  },
  {
   "cell_type": "code",
   "execution_count": 4,
   "metadata": {},
   "outputs": [],
   "source": [
    "#df.to_csv('DS_salary_cleaned.csv',index = False)"
   ]
  }
 ],
 "metadata": {
  "kernelspec": {
   "display_name": "Python 3",
   "language": "python",
   "name": "python3"
  },
  "language_info": {
   "codemirror_mode": {
    "name": "ipython",
    "version": 3
   },
   "file_extension": ".py",
   "mimetype": "text/x-python",
   "name": "python",
   "nbconvert_exporter": "python",
   "pygments_lexer": "ipython3",
   "version": "3.7.6"
  }
 },
 "nbformat": 4,
 "nbformat_minor": 4
}
