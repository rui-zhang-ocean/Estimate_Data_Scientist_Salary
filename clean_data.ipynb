{
 "cells": [
  {
   "cell_type": "markdown",
   "metadata": {},
   "source": [
    "This script is to clean raw data downloaded by `collect_data`, steps include:\n",
    "- parsed min and max from salary range, calculated its average\n",
    "- Made a new column indicating if salary is paid hourly\n",
    "- Discard data without salary (=-1)\n",
    "- Made a new column for company state\n",
    "- Made a new column if the job location is the same as head quarter\n",
    "- Made a new column of company age\n",
    "- Made new columns if selected skills listed in the job description\n",
    "    - Python\n",
    "    - Rstudio\n",
    "    - SQL\n",
    "    - Excel\n",
    "    - AWS\n",
    "    - Spark\n",
    "- Made a new column for "
   ]
  },
  {
   "cell_type": "code",
   "execution_count": null,
   "metadata": {},
   "outputs": [],
   "source": [
    "import pandas as pd\n",
    "\n",
    "df = pd.read_csv('DS_salary_raw.csv')\n",
    "\n",
    "# remove second column\n",
    "df = df.drop(['Unnamed: 0'],axis=1)\n",
    "\n",
    "# salary parsing, remove rows without salary info\n",
    "df = df[df['Salary Estimate'] != '-1']\n",
    "\n",
    "# add columns indicating if hourly paid\n",
    "df['hourly'] = df['Salary Estimate'].str.lower().str.contains('per hour').astype(int)\n",
    "\n",
    "# remove unnecessry strings and extract min, max and average salary\n",
    "salary = df['Salary Estimate'].apply(lambda x: x.split('(')[0]).str.replace('$','').str.replace('K','').str.replace('Per Hour','')\n",
    "df['min_salary'] = salary.apply(lambda x: int(x.split('-')[0]))\n",
    "df['max_salary'] = salary.apply(lambda x: int(x.split('-')[1]))\n",
    "df['avg_salary'] = (df.min_salary + df.max_salary)/2\n",
    "\n",
    "# company name\n",
    "df['company_txt'] = df.apply(lambda x: x['Company Name'] if x['Rating'] < 0 else x['Company Name'][:-3], axis = 1)\n",
    "\n",
    "# location by state and if head quarter in the same location\n",
    "df['job_state'] = df['Location'].apply(lambda x: x.split(',')[1]).str.replace(' ','')\n",
    "#df['job_state'].value_counts()\n",
    "df['same_state'] = df.apply(lambda x: 1 if x['Location'] == x['Headquarters'] else 0, axis = 1)\n",
    "\n",
    "# age\n",
    "df['age'] = df['Founded'].apply(lambda x: 2020 - int(x) if int(x) > 0 else int(x))\n",
    "\n",
    "# job description keywords selection\n",
    "skills = ['python','sql','excel','aws','spark','nlp','rstudio']\n",
    "\n",
    "for skill in skills:\n",
    "    df[skill + '_yn'] = df['Job Description'].apply(lambda x: 1 if skill in x.lower() else 0)\n",
    "    #print(df[skill + '_yn'].value_counts())"
   ]
  },
  {
   "cell_type": "code",
   "execution_count": null,
   "metadata": {},
   "outputs": [],
   "source": [
    "#df.to_csv('DS_salary_cleaned.csv',index = False)"
   ]
  }
 ],
 "metadata": {
  "kernelspec": {
   "display_name": "Python 3",
   "language": "python",
   "name": "python3"
  },
  "language_info": {
   "codemirror_mode": {
    "name": "ipython",
    "version": 3
   },
   "file_extension": ".py",
   "mimetype": "text/x-python",
   "name": "python",
   "nbconvert_exporter": "python",
   "pygments_lexer": "ipython3",
   "version": "3.7.6"
  }
 },
 "nbformat": 4,
 "nbformat_minor": 4
}
