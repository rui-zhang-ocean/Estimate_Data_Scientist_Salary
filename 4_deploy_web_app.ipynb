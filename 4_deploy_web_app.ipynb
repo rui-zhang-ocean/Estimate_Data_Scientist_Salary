{
 "cells": [
  {
   "cell_type": "markdown",
   "metadata": {},
   "source": [
    "The purpose is to build a web application using the model trained in previous step. A user could input data on company details, job features and skills and get a return of estimated salary.The web app is built with Streamlit and deployed with Heroku.\n",
    "\n",
    "The web application can be accessed [here](https://estimate-data-scientist-salary.herokuapp.com/)\n",
    "\n",
    "General steps:\n",
    " - create `web_app.py` which builds the web application interface with [Streamlit](https://www.streamlit.io/)\n",
    " - create `requirements.txt` using `pipreqs`\n",
    " - create `setup.sh` which contains configuration for the server\n",
    " - create `Procfile` which executives the app\n",
    " - sign up with [Heroku](https://signup.heroku.com/), log in and create a new app, this could either be done via browser or terminal, the app name is randomly generated first, and could be modified later under the `Settings` tag on Heroku website.\n",
    " - Heroku provided version control with `Heroku CLI`, I chose to use `Github`. Under the `Deploy` tag, you can easily specify connection with `Github` and deploy specified branch manually.\n",
    "\n",
    "Tutorial credits to [Sohaib Ahmad](https://towardsdatascience.com/deploy-streamlit-on-heroku-9c87798d2088) and [Chanin Nantasenamat](https://www.youtube.com/watch?v=zK4Ch6e1zq8), note that `setup.sh` is different from the tutorial."
   ]
  }
 ],
 "metadata": {
  "kernelspec": {
   "display_name": "Python 3",
   "language": "python",
   "name": "python3"
  },
  "language_info": {
   "codemirror_mode": {
    "name": "ipython",
    "version": 3
   },
   "file_extension": ".py",
   "mimetype": "text/x-python",
   "name": "python",
   "nbconvert_exporter": "python",
   "pygments_lexer": "ipython3",
   "version": "3.7.6"
  }
 },
 "nbformat": 4,
 "nbformat_minor": 4
}
